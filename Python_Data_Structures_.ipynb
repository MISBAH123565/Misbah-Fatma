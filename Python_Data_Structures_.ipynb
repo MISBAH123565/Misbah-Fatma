{
  "nbformat": 4,
  "nbformat_minor": 0,
  "metadata": {
    "colab": {
      "provenance": []
    },
    "kernelspec": {
      "name": "python3",
      "display_name": "Python 3"
    },
    "language_info": {
      "name": "python"
    }
  },
  "cells": [
    {
      "cell_type": "markdown",
      "source": [
        "1. What are data structures, and why are they important?\n",
        "-> Data structures bring together the data elements in alogical way and facilitate the effective use, persistence and sharing of data\n",
        "it is important:-\n",
        "They help computers process large and complex data sets more efficiently"
      ],
      "metadata": {
        "id": "8Ax25XYzx1uz"
      }
    },
    {
      "cell_type": "markdown",
      "source": [
        "2.Explain the difference between mutable and immutable data types with examples\n",
        "\n",
        "-> Mutable data types:-\n",
        "Mutable data types allow modification of their values in place, without creating a new object.\n",
        "Example:- lists, dictionaries and sets\n",
        "Immutable data types:-\n",
        "Immutable data types, on the other hand, do not allow modification of their value after creation\n",
        "Example:-String"
      ],
      "metadata": {
        "id": "d-FTJjYkz5Wv"
      }
    },
    {
      "cell_type": "markdown",
      "source": [
        "3. What are the main difference between lists and tuples in python\n",
        "\n",
        "-> lists are mutable while tuples are immutable\n",
        "This means tuples cannot be change While lists can be modified. Tuples are also more memory efficient than the lists\n",
        "\n"
      ],
      "metadata": {
        "id": "NUCs1dNZUER1"
      }
    },
    {
      "cell_type": "markdown",
      "source": [
        "4. Describe how dictionaries store data\n",
        "\n",
        "-> A dictionary stores data in \"key-value pair\" meaning each piece of information is associated with a unique identifier called a \"key\" which allows for quick access to the corresponding \"value\" essentially acting like an index to retrieve specific data within the dictionary"
      ],
      "metadata": {
        "id": "RzR3gWNkWNE4"
      }
    },
    {
      "cell_type": "markdown",
      "source": [
        "5. Why might you use a set instead of a list in python\n",
        "\n",
        "-> Sets and lists are both fundamental data structures in python, but they serve different purposes and offer distinct advantages. Choosing between them depends on the specific requirements of a task"
      ],
      "metadata": {
        "id": "BjME6n7qXocV"
      }
    },
    {
      "cell_type": "markdown",
      "source": [
        "6. What is a string in python, and how is it different from a list?\n",
        "\n",
        "-> String is an ordered sequence of characters enclosed in quotes representing textual data, while a list is an ordered collection of elements enclose in square brackets\n",
        "Strings are immutable and lists are mutable.\n"
      ],
      "metadata": {
        "id": "0FDSfBNLqeR6"
      }
    },
    {
      "cell_type": "markdown",
      "source": [
        "7. How do tuples ensure data integrity in python?\n",
        "\n",
        "-> Tuples in python ensure integrity through their immutability once a tuple is created, its contents cannot be modified meaning elements cannot be changed, added and removed this characteristic offers several advantages for maintaining data integrityWhat is a hash tabl"
      ],
      "metadata": {
        "id": "mc3DLEbiuaWT"
      }
    },
    {
      "cell_type": "markdown",
      "source": [
        "8. What is a hash table, and how does it relate to dictionaries in python ?\n",
        "\n",
        "-> Hash table are a type of data structure in which the address/ index value of the data element is generated from a hash function\n",
        "Ahash table is data structure that stores key-value paires it uses a hash function to computer an index into an array ofbuckets or slots, from which the desired value can be found\n",
        "                                           \n",
        "\n"
      ],
      "metadata": {
        "id": "K_BMs7h6xIdf"
      }
    },
    {
      "cell_type": "markdown",
      "source": [
        "9. Can lists contain different data types in python?\n",
        "\n",
        "-> A lists can also contain a mix of python types including strings, floats, and booleans\n",
        " Python lists are highly flexible and can indeed contain elements of different data types within the same list. This feature distinguishes them from arrays in some other programming languages, which typically required all elements to be of the same type"
      ],
      "metadata": {
        "id": "TNQOluX73d0t"
      }
    },
    {
      "cell_type": "markdown",
      "source": [
        "10. Explain why strings are immutable in python?\n",
        "\n",
        "-> Strings in python are immutable, meaning their value cannot be altered after creation. Any operation that appears to modify a string actually creates a new string object"
      ],
      "metadata": {
        "id": "10g3ig4J7tjz"
      }
    },
    {
      "cell_type": "markdown",
      "source": [
        "11. What advantages do dictionaries offer over lists for certain tasks\n",
        "\n",
        "\n",
        "-> List:-\n",
        "* It contain duplicate elements  \n",
        "* Slicing can be done\n",
        "* It is preferred when the contents are not fixed\n",
        "\n",
        "Dictionary:-\n",
        "* It cannot contain duplicate keys\n",
        "* Slicing cannot be done\n",
        "* It is preferred when working with large amounts of data\n",
        "\n",
        "\n"
      ],
      "metadata": {
        "id": "QlIqJ4IU8_bk"
      }
    },
    {
      "cell_type": "markdown",
      "source": [
        "12. Desceribe a scenario where using a tuple would be prefeable over a list.\n",
        "\n",
        "->\n"
      ],
      "metadata": {
        "id": "p73JziYNIqhC"
      }
    },
    {
      "cell_type": "markdown",
      "source": [
        "13. How do sets handle duplicate values in python?\n",
        "\n",
        "-> To handle duplicate values, sets are used in python. Sets are unordered collections that do not allow duplicate elements if an attempt is made to add a duplicate element to a set, it will simply be ignored"
      ],
      "metadata": {
        "id": "ZEp38KjZNDIi"
      }
    },
    {
      "cell_type": "markdown",
      "source": [
        "14. How does the \"in\" keyword work differently for lists and dictionaries?\n",
        "\n",
        "-> \"In\" keyword, it checks if an element exists within a list, while for dictionaries, it checks it a specific key exists within the dictionary"
      ],
      "metadata": {
        "id": "j_CUrAXnN41-"
      }
    },
    {
      "cell_type": "markdown",
      "source": [
        "15. Can you modify the elements of a tuple? Explain why or why not\n",
        "\n",
        "-> No you cannot modify the elements of a tuple becouse tuple are immutable\n"
      ],
      "metadata": {
        "id": "9FDJV29lOzPn"
      }
    },
    {
      "cell_type": "markdown",
      "source": [
        "16. What is a nested dictionary, and give an example of its use case?\n",
        "\n",
        "-> A nested dictionary is a dictionary that is stored as a value within another dictionary\n",
        "\n",
        "Example:-\n",
        "* Organizational Chat\n",
        "* Nested dictionary comprehension\n",
        "\n"
      ],
      "metadata": {
        "id": "JXelC4H5Pfff"
      }
    },
    {
      "cell_type": "markdown",
      "source": [
        "17. Describe the time complexity of accessing elements in a dictionart.\n",
        "\n",
        "-> The time complexity of accessing an element in a python dictionary is 0(1) which means it takes a constant amount of time to search for a value in the dictionary"
      ],
      "metadata": {
        "id": "i-1VAnT7Qx8e"
      }
    },
    {
      "cell_type": "markdown",
      "source": [
        "18. In what situatins are lists preferred over dictionaries?\n",
        "\n",
        "-> If you need an ordered collection, like a sequence of user action, lists are your go-to. on the other hand, when you need quick look-ups, like mapping usernames to user data, dictionaries"
      ],
      "metadata": {
        "id": "nPCm7qBWRkqH"
      }
    },
    {
      "cell_type": "markdown",
      "source": [
        "19. Why are dictionaries considered unorded, and how does that affect data retrieval?\n",
        "\n",
        "-> Dictionaries are unordered meaning that any time you loop through a dictionary you will go through every key but you are not guaranteed to get them in any particular order\n"
      ],
      "metadata": {
        "id": "rNXho8TYSbLN"
      }
    },
    {
      "cell_type": "markdown",
      "source": [
        "20. Explain the difference between a list and a dictionary in terms of data retrieval\n",
        "\n",
        "-> A list is an ordered collection of items, where as a dictionary is an unordered data collection in a key"
      ],
      "metadata": {
        "id": "PvuyTEmnJHwS"
      }
    },
    {
      "cell_type": "markdown",
      "source": [
        "# *PRACTICAL QUESTIONS*"
      ],
      "metadata": {
        "id": "1vEk0E2MNa3t"
      }
    },
    {
      "cell_type": "markdown",
      "source": [
        "1. Write a code to create a string with your name and print it\n"
      ],
      "metadata": {
        "id": "DKXPBzFoNnCz"
      }
    },
    {
      "cell_type": "code",
      "source": [
        "name = \"Misbah Fatma\"\n",
        "print(name)"
      ],
      "metadata": {
        "colab": {
          "base_uri": "https://localhost:8080/"
        },
        "id": "0Rd_W4xMOE2A",
        "outputId": "33086cab-f46a-455f-a4d2-3117de5d1c85"
      },
      "execution_count": null,
      "outputs": [
        {
          "output_type": "stream",
          "name": "stdout",
          "text": [
            "Misbah Fatma\n"
          ]
        }
      ]
    },
    {
      "cell_type": "markdown",
      "source": [
        "2. Write a code to fint the length of the string \"Hello World\""
      ],
      "metadata": {
        "id": "dSlY_mg0PAm4"
      }
    },
    {
      "cell_type": "code",
      "source": [
        "str= \"Hello World\"\n",
        "print(len(str))\n"
      ],
      "metadata": {
        "colab": {
          "base_uri": "https://localhost:8080/"
        },
        "id": "uDETa-bsPNvT",
        "outputId": "022efef1-6511-4185-9434-14e041698beb"
      },
      "execution_count": null,
      "outputs": [
        {
          "output_type": "stream",
          "name": "stdout",
          "text": [
            "11\n"
          ]
        }
      ]
    },
    {
      "cell_type": "markdown",
      "source": [
        "3. Write a code to slice the first 3 characters from the string \"python Programming\""
      ],
      "metadata": {
        "id": "UNutvqoLPu8x"
      }
    },
    {
      "cell_type": "code",
      "source": [
        "str = \"python programming\"\n",
        "print(str[0:3])\n"
      ],
      "metadata": {
        "colab": {
          "base_uri": "https://localhost:8080/"
        },
        "id": "aLw4FbW2P_pB",
        "outputId": "552de667-6305-47ad-d25c-545d3b560b55"
      },
      "execution_count": null,
      "outputs": [
        {
          "output_type": "stream",
          "name": "stdout",
          "text": [
            "pyt\n"
          ]
        }
      ]
    },
    {
      "cell_type": "markdown",
      "source": [
        "4. Write a code to convert the string \"hello\" to uppercase"
      ],
      "metadata": {
        "id": "qpx7CW4pQ-L-"
      }
    },
    {
      "cell_type": "code",
      "source": [
        "string = \"hello\"\n",
        "uppercase_string = string.upper()\n",
        "print(uppercase_string)"
      ],
      "metadata": {
        "colab": {
          "base_uri": "https://localhost:8080/"
        },
        "id": "ZCnGb7UFRKet",
        "outputId": "b3e4b23b-a099-4c86-9aa8-09740290af59"
      },
      "execution_count": null,
      "outputs": [
        {
          "output_type": "stream",
          "name": "stdout",
          "text": [
            "HELLO\n"
          ]
        }
      ]
    },
    {
      "cell_type": "markdown",
      "source": [
        "5. Write a code to replace the word \"apple\" with \"orange\" in the string \"i like apple\""
      ],
      "metadata": {
        "id": "taMcO7TiRym7"
      }
    },
    {
      "cell_type": "code",
      "source": [
        "original_string = \"i like apple\"\n",
        "new_string = original_string.replace(\"apple\", \"orange\")\n",
        "print(new_string)"
      ],
      "metadata": {
        "colab": {
          "base_uri": "https://localhost:8080/"
        },
        "id": "yY3OQE66SDLq",
        "outputId": "96196d3b-92f0-4382-82f6-640dbdf90431"
      },
      "execution_count": null,
      "outputs": [
        {
          "output_type": "stream",
          "name": "stdout",
          "text": [
            "i like orange\n"
          ]
        }
      ]
    },
    {
      "cell_type": "markdown",
      "source": [
        "6. Write a code to create a list with number 1to5 and print it."
      ],
      "metadata": {
        "id": "qf1wCCUESnQ1"
      }
    },
    {
      "cell_type": "code",
      "source": [
        "number = [1,2,3,4,5]\n",
        "print(number)"
      ],
      "metadata": {
        "colab": {
          "base_uri": "https://localhost:8080/"
        },
        "id": "sSxomNrAS4hy",
        "outputId": "2f22dcb7-995d-46a2-d0a4-771e6946687f"
      },
      "execution_count": null,
      "outputs": [
        {
          "output_type": "stream",
          "name": "stdout",
          "text": [
            "[1, 2, 3, 4, 5]\n"
          ]
        }
      ]
    },
    {
      "cell_type": "markdown",
      "source": [
        "7. Write a code to append the number 10 to the list [1,2,3,4]"
      ],
      "metadata": {
        "id": "7ltwC9iWTSox"
      }
    },
    {
      "cell_type": "code",
      "source": [
        "numberlist = [1,2,3,4]\n",
        "numberlist.append(10)\n",
        "print(numberlist)"
      ],
      "metadata": {
        "colab": {
          "base_uri": "https://localhost:8080/"
        },
        "id": "hh7M9A9KTRfB",
        "outputId": "69951510-5458-44ae-f936-402a69ba907b"
      },
      "execution_count": null,
      "outputs": [
        {
          "output_type": "stream",
          "name": "stdout",
          "text": [
            "[1, 2, 3, 4, 10]\n"
          ]
        }
      ]
    },
    {
      "cell_type": "markdown",
      "source": [
        "8. Write a code to remove the number 3 from the list [1,2,3,4,5]"
      ],
      "metadata": {
        "id": "jXN-9FmuUI8u"
      }
    },
    {
      "cell_type": "code",
      "source": [
        "numberlist = [1,2,3,4,5]\n",
        "numberlist.remove(3)\n",
        "print(numberlist)"
      ],
      "metadata": {
        "colab": {
          "base_uri": "https://localhost:8080/"
        },
        "id": "feIPAyHnUYCc",
        "outputId": "1148d809-1603-4afc-a440-1e6799dd9a09"
      },
      "execution_count": null,
      "outputs": [
        {
          "output_type": "stream",
          "name": "stdout",
          "text": [
            "[1, 2, 4, 5]\n"
          ]
        }
      ]
    },
    {
      "cell_type": "markdown",
      "source": [
        "9. Write a code to access the second element in the list ['a','b','c','d']"
      ],
      "metadata": {
        "id": "6DFVoUrVVL2P"
      }
    },
    {
      "cell_type": "code",
      "source": [
        "my_list = ['a','b','c','d']\n",
        "second_element = my_list[1]\n",
        "print(second_element)"
      ],
      "metadata": {
        "colab": {
          "base_uri": "https://localhost:8080/"
        },
        "id": "XfXi63fGVLZh",
        "outputId": "8ed70bbd-7711-493b-b52f-3dfc49ccc9b9"
      },
      "execution_count": null,
      "outputs": [
        {
          "output_type": "stream",
          "name": "stdout",
          "text": [
            "b\n"
          ]
        }
      ]
    },
    {
      "cell_type": "markdown",
      "source": [
        "10. Write a code to reverse the list [10,20,30,40,50]"
      ],
      "metadata": {
        "id": "sLdvdOGiWDVK"
      }
    },
    {
      "cell_type": "code",
      "source": [
        "list = [10,20,30,40,50]\n",
        "list.reverse()\n",
        "print(list)"
      ],
      "metadata": {
        "colab": {
          "base_uri": "https://localhost:8080/"
        },
        "id": "o1O2nkMwWCGL",
        "outputId": "ef47221c-5996-4eb3-93b7-d8fa75d88145"
      },
      "execution_count": null,
      "outputs": [
        {
          "output_type": "stream",
          "name": "stdout",
          "text": [
            "[50, 40, 30, 20, 10]\n"
          ]
        }
      ]
    },
    {
      "cell_type": "markdown",
      "source": [
        "11. Write a code to create a tuple with the elements 10,20,30 and print it"
      ],
      "metadata": {
        "id": "xviX3YOuWtWr"
      }
    },
    {
      "cell_type": "code",
      "source": [
        "my_tuple = (10,20,30)\n",
        "print(my_tuple)"
      ],
      "metadata": {
        "colab": {
          "base_uri": "https://localhost:8080/"
        },
        "id": "bzoAjGvUW60h",
        "outputId": "c6653adf-bff7-4045-f43b-a88dec1d02d0"
      },
      "execution_count": null,
      "outputs": [
        {
          "output_type": "stream",
          "name": "stdout",
          "text": [
            "(10, 20, 30)\n"
          ]
        }
      ]
    },
    {
      "cell_type": "markdown",
      "source": [
        "12. Write a code to access the first element of the tuple ('apple', 'banana', 'cherry')"
      ],
      "metadata": {
        "id": "VNXh7tarXPrq"
      }
    },
    {
      "cell_type": "code",
      "source": [
        "my_tuple = ('apple', 'banana', 'cherry')\n",
        "first_element = my_tuple[0]\n",
        "print(my_tuple)"
      ],
      "metadata": {
        "colab": {
          "base_uri": "https://localhost:8080/"
        },
        "id": "wI3Dva5iXj-8",
        "outputId": "9a50dd9e-7d17-4106-a729-fa92a560ed1a"
      },
      "execution_count": null,
      "outputs": [
        {
          "output_type": "stream",
          "name": "stdout",
          "text": [
            "('apple', 'banana', 'cherry')\n"
          ]
        }
      ]
    },
    {
      "cell_type": "markdown",
      "source": [
        "13. Write a code to count how many times times the number 2 appears in the tuple (1,2,3,2,4,2)"
      ],
      "metadata": {
        "id": "7LXoIatnYF1W"
      }
    },
    {
      "cell_type": "code",
      "source": [
        "my_tuple = (1,2,3,2,4,2)\n",
        "count = my_tuple.count(2)\n",
        "print(count)"
      ],
      "metadata": {
        "colab": {
          "base_uri": "https://localhost:8080/"
        },
        "id": "tRiytFhDYhQB",
        "outputId": "2312d509-bc29-4d79-ed90-6f595e3eded3"
      },
      "execution_count": null,
      "outputs": [
        {
          "output_type": "stream",
          "name": "stdout",
          "text": [
            "3\n"
          ]
        }
      ]
    },
    {
      "cell_type": "markdown",
      "source": [
        "14. Write a code to find the index of the element \"cat\" in the tuple ('dog', 'cat', 'rabbit')"
      ],
      "metadata": {
        "id": "7_eBMdlUYy__"
      }
    },
    {
      "cell_type": "code",
      "source": [
        "my_tuple = ('dog', 'cat','rabbit')\n",
        "index = my_tuple.index('cat')\n",
        "print(index)"
      ],
      "metadata": {
        "colab": {
          "base_uri": "https://localhost:8080/"
        },
        "id": "jB5HJyjaZJ5O",
        "outputId": "cd8e3856-266e-4c03-bcd8-0dd38d97f084"
      },
      "execution_count": null,
      "outputs": [
        {
          "output_type": "stream",
          "name": "stdout",
          "text": [
            "1\n"
          ]
        }
      ]
    },
    {
      "cell_type": "markdown",
      "source": [
        "15. Write a code to check if the element \"banana\" is in the tuple ('apple', 'orange', 'banana')"
      ],
      "metadata": {
        "id": "7qjaxqzfZhdy"
      }
    },
    {
      "cell_type": "code",
      "source": [
        "my_tuple = ('apple', 'orange', 'banana')\n",
        "if 'banana' in my_tuple:\n",
        "  print('banana' in my_tuple)"
      ],
      "metadata": {
        "colab": {
          "base_uri": "https://localhost:8080/"
        },
        "id": "vu0Hxga_aBMI",
        "outputId": "80ce5153-77ae-4c3a-dec0-9a4ea93e5f5f"
      },
      "execution_count": null,
      "outputs": [
        {
          "output_type": "stream",
          "name": "stdout",
          "text": [
            "True\n"
          ]
        }
      ]
    },
    {
      "cell_type": "markdown",
      "source": [
        "16. Write a code to create a set with the element 1,2,3,4,5 and print it"
      ],
      "metadata": {
        "id": "AvXvS4dVa9uF"
      }
    },
    {
      "cell_type": "code",
      "source": [
        "my_set = {1,2,3,4,5}\n",
        "print(my_set)"
      ],
      "metadata": {
        "colab": {
          "base_uri": "https://localhost:8080/"
        },
        "id": "Eveec2EWbOwB",
        "outputId": "31fc72d8-01ff-4980-a4ec-6d8e3890a1f8"
      },
      "execution_count": null,
      "outputs": [
        {
          "output_type": "stream",
          "name": "stdout",
          "text": [
            "{1, 2, 3, 4, 5}\n"
          ]
        }
      ]
    },
    {
      "cell_type": "markdown",
      "source": [
        "17. Write a code to add the element 6 to the set {1,2,3,4}"
      ],
      "metadata": {
        "id": "_Av52BJkbsRL"
      }
    },
    {
      "cell_type": "code",
      "source": [
        "my_set ={1,2,3,4}\n",
        "my_set.add(6)\n",
        "print(my_set)"
      ],
      "metadata": {
        "colab": {
          "base_uri": "https://localhost:8080/"
        },
        "id": "Y-L71niIcTd0",
        "outputId": "f01087e8-fc20-4b2c-a89c-1927b1c56781"
      },
      "execution_count": null,
      "outputs": [
        {
          "output_type": "stream",
          "name": "stdout",
          "text": [
            "{1, 2, 3, 4, 6}\n"
          ]
        }
      ]
    },
    {
      "cell_type": "markdown",
      "source": [
        "18. Write a code to create a tuple with the element 10,20,30 and print it"
      ],
      "metadata": {
        "id": "uZfTZyxrcjbK"
      }
    },
    {
      "cell_type": "code",
      "source": [
        "my_tuple = (10,20,30)\n",
        "print(my_tuple)"
      ],
      "metadata": {
        "colab": {
          "base_uri": "https://localhost:8080/"
        },
        "id": "TlW4rvCPc493",
        "outputId": "e5fa79ff-535e-4d03-b853-06ccf0d0d743"
      },
      "execution_count": null,
      "outputs": [
        {
          "output_type": "stream",
          "name": "stdout",
          "text": [
            "(10, 20, 30)\n"
          ]
        }
      ]
    },
    {
      "cell_type": "markdown",
      "source": [
        "19. Write a code to access the first elements of the tuple ('apple', 'banana', 'cherry')"
      ],
      "metadata": {
        "id": "Ub6VASKpdNRL"
      }
    },
    {
      "cell_type": "code",
      "source": [
        "my_tuple = ('apple', 'banana', 'cherry')\n",
        "first_element = my_tuple[0]\n",
        "print(first_element)"
      ],
      "metadata": {
        "colab": {
          "base_uri": "https://localhost:8080/"
        },
        "id": "VvQbJobQemz0",
        "outputId": "bfe3a516-7d8d-4ee2-bc21-40e7361d4b5e"
      },
      "execution_count": null,
      "outputs": [
        {
          "output_type": "stream",
          "name": "stdout",
          "text": [
            "apple\n"
          ]
        }
      ]
    },
    {
      "cell_type": "markdown",
      "source": [
        "20. Write a code to count how many times the number 2 appers in the tuple (1,2,3,2,4,2)"
      ],
      "metadata": {
        "id": "r-JjamFmflkE"
      }
    },
    {
      "cell_type": "code",
      "source": [
        "my_tuple = (1,2,3,2,4,2)\n",
        "count = my_tuple.count(2)\n",
        "print(count)"
      ],
      "metadata": {
        "colab": {
          "base_uri": "https://localhost:8080/"
        },
        "id": "hvHar3uqghlB",
        "outputId": "9ea245e5-bf5a-4395-9575-756e430356d8"
      },
      "execution_count": null,
      "outputs": [
        {
          "output_type": "stream",
          "name": "stdout",
          "text": [
            "3\n"
          ]
        }
      ]
    },
    {
      "cell_type": "markdown",
      "source": [
        "21. Write a code to find the index of the element \"cat\" in the tuple ('dog', 'cat', 'rabbit')"
      ],
      "metadata": {
        "id": "cj1Jm04vhX29"
      }
    },
    {
      "cell_type": "code",
      "source": [
        "my_tuple = ('dog', 'cat', 'rabbit')\n",
        "index = my_tuple.index('cat')\n",
        "print(index)"
      ],
      "metadata": {
        "colab": {
          "base_uri": "https://localhost:8080/"
        },
        "id": "p86hYQsvhrVR",
        "outputId": "72d69fde-c8ab-428c-9adf-a92045521129"
      },
      "execution_count": null,
      "outputs": [
        {
          "output_type": "stream",
          "name": "stdout",
          "text": [
            "1\n"
          ]
        }
      ]
    },
    {
      "cell_type": "markdown",
      "source": [
        "22. Write a code to check if the element \"banana\" is in the tuple ('apple', 'orange', 'banana')"
      ],
      "metadata": {
        "id": "a8MP_u2diAZP"
      }
    },
    {
      "cell_type": "code",
      "source": [
        "my_tuple = ('apple', 'orange', 'banana')\n",
        "if 'banana' in my_tuple:\n",
        "  print('banana' in my_tuple)"
      ],
      "metadata": {
        "colab": {
          "base_uri": "https://localhost:8080/"
        },
        "id": "eY5DoPHdiaxv",
        "outputId": "5e59249e-9bb4-4fbb-b870-f473636ebce4"
      },
      "execution_count": null,
      "outputs": [
        {
          "output_type": "stream",
          "name": "stdout",
          "text": [
            "True\n"
          ]
        }
      ]
    },
    {
      "cell_type": "markdown",
      "source": [
        "23. write a code to create a set with the elements 1,2,3,4,5 and print it"
      ],
      "metadata": {
        "id": "AjePgoGhjINs"
      }
    },
    {
      "cell_type": "code",
      "source": [
        "my_set ={1,2,3,4,5}\n",
        "print(my_set)"
      ],
      "metadata": {
        "colab": {
          "base_uri": "https://localhost:8080/"
        },
        "id": "kML8d8UEjdBw",
        "outputId": "0c840206-c40f-429e-d8a9-d4d7594e58a6"
      },
      "execution_count": null,
      "outputs": [
        {
          "output_type": "stream",
          "name": "stdout",
          "text": [
            "{1, 2, 3, 4, 5}\n"
          ]
        }
      ]
    },
    {
      "cell_type": "markdown",
      "source": [
        "24. Write a code to add the element 6 to the set {1,2,3,4}"
      ],
      "metadata": {
        "id": "52KbQS1djmOZ"
      }
    },
    {
      "cell_type": "code",
      "source": [
        "my_set = {1,2,3,4}\n",
        "my_set.add(6)\n",
        "print(my_set)"
      ],
      "metadata": {
        "colab": {
          "base_uri": "https://localhost:8080/"
        },
        "id": "QoSBeWDqjzPQ",
        "outputId": "eff9eb0d-d4b1-493f-8f88-949d901c5422"
      },
      "execution_count": null,
      "outputs": [
        {
          "output_type": "stream",
          "name": "stdout",
          "text": [
            "{1, 2, 3, 4, 6}\n"
          ]
        }
      ]
    }
  ]
}